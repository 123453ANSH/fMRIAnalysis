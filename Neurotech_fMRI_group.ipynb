{
  "nbformat": 4,
  "nbformat_minor": 0,
  "metadata": {
    "colab": {
      "name": "Neurotech fMRI group.ipynb",
      "provenance": [],
      "include_colab_link": true
    },
    "kernelspec": {
      "name": "python3",
      "display_name": "Python 3"
    },
    "widgets": {
      "application/vnd.jupyter.widget-state+json": {
        "352d9026a97547028cc0cd89592987f2": {
          "model_module": "@jupyter-widgets/controls",
          "model_name": "VBoxModel",
          "state": {
            "_view_name": "VBoxView",
            "_dom_classes": [
              "widget-interact"
            ],
            "_model_name": "VBoxModel",
            "_view_module": "@jupyter-widgets/controls",
            "_model_module_version": "1.5.0",
            "_view_count": null,
            "_view_module_version": "1.5.0",
            "box_style": "",
            "layout": "IPY_MODEL_383f342cb4d146548b798378f8ffa303",
            "_model_module": "@jupyter-widgets/controls",
            "children": [
              "IPY_MODEL_e16a0e39a2034278949ece95c75c4c73",
              "IPY_MODEL_1018e6787138430a995305e9ef5cb72b"
            ]
          }
        },
        "383f342cb4d146548b798378f8ffa303": {
          "model_module": "@jupyter-widgets/base",
          "model_name": "LayoutModel",
          "state": {
            "_view_name": "LayoutView",
            "grid_template_rows": null,
            "right": null,
            "justify_content": null,
            "_view_module": "@jupyter-widgets/base",
            "overflow": null,
            "_model_module_version": "1.2.0",
            "_view_count": null,
            "flex_flow": null,
            "width": null,
            "min_width": null,
            "border": null,
            "align_items": null,
            "bottom": null,
            "_model_module": "@jupyter-widgets/base",
            "top": null,
            "grid_column": null,
            "overflow_y": null,
            "overflow_x": null,
            "grid_auto_flow": null,
            "grid_area": null,
            "grid_template_columns": null,
            "flex": null,
            "_model_name": "LayoutModel",
            "justify_items": null,
            "grid_row": null,
            "max_height": null,
            "align_content": null,
            "visibility": null,
            "align_self": null,
            "height": null,
            "min_height": null,
            "padding": null,
            "grid_auto_rows": null,
            "grid_gap": null,
            "max_width": null,
            "order": null,
            "_view_module_version": "1.2.0",
            "grid_template_areas": null,
            "object_position": null,
            "object_fit": null,
            "grid_auto_columns": null,
            "margin": null,
            "display": null,
            "left": null
          }
        },
        "e16a0e39a2034278949ece95c75c4c73": {
          "model_module": "@jupyter-widgets/controls",
          "model_name": "IntSliderModel",
          "state": {
            "_view_name": "IntSliderView",
            "style": "IPY_MODEL_bdee5916aa92445490ef6c7fe9f87afb",
            "_dom_classes": [],
            "description": "i",
            "step": 1,
            "_model_name": "IntSliderModel",
            "orientation": "horizontal",
            "max": 29,
            "_view_module": "@jupyter-widgets/controls",
            "_model_module_version": "1.5.0",
            "value": 0,
            "_view_count": null,
            "disabled": false,
            "_view_module_version": "1.5.0",
            "min": 0,
            "continuous_update": true,
            "readout_format": "d",
            "description_tooltip": null,
            "readout": true,
            "_model_module": "@jupyter-widgets/controls",
            "layout": "IPY_MODEL_ccb0c973266d400681a109165ac633d9"
          }
        },
        "1018e6787138430a995305e9ef5cb72b": {
          "model_module": "@jupyter-widgets/output",
          "model_name": "OutputModel",
          "state": {
            "_view_name": "OutputView",
            "msg_id": "",
            "_dom_classes": [],
            "_model_name": "OutputModel",
            "outputs": [
              {
                "output_type": "display_data",
                "metadata": {
                  "tags": [],
                  "needs_background": "light"
                },
                "image/png": "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\n",
                "text/plain": "<Figure size 648x648 with 1 Axes>"
              }
            ],
            "_view_module": "@jupyter-widgets/output",
            "_model_module_version": "1.0.0",
            "_view_count": null,
            "_view_module_version": "1.0.0",
            "layout": "IPY_MODEL_8b5c2bf9e77e41b283e5a179f14695ae",
            "_model_module": "@jupyter-widgets/output"
          }
        },
        "bdee5916aa92445490ef6c7fe9f87afb": {
          "model_module": "@jupyter-widgets/controls",
          "model_name": "SliderStyleModel",
          "state": {
            "_view_name": "StyleView",
            "handle_color": null,
            "_model_name": "SliderStyleModel",
            "description_width": "",
            "_view_module": "@jupyter-widgets/base",
            "_model_module_version": "1.5.0",
            "_view_count": null,
            "_view_module_version": "1.2.0",
            "_model_module": "@jupyter-widgets/controls"
          }
        },
        "ccb0c973266d400681a109165ac633d9": {
          "model_module": "@jupyter-widgets/base",
          "model_name": "LayoutModel",
          "state": {
            "_view_name": "LayoutView",
            "grid_template_rows": null,
            "right": null,
            "justify_content": null,
            "_view_module": "@jupyter-widgets/base",
            "overflow": null,
            "_model_module_version": "1.2.0",
            "_view_count": null,
            "flex_flow": null,
            "width": null,
            "min_width": null,
            "border": null,
            "align_items": null,
            "bottom": null,
            "_model_module": "@jupyter-widgets/base",
            "top": null,
            "grid_column": null,
            "overflow_y": null,
            "overflow_x": null,
            "grid_auto_flow": null,
            "grid_area": null,
            "grid_template_columns": null,
            "flex": null,
            "_model_name": "LayoutModel",
            "justify_items": null,
            "grid_row": null,
            "max_height": null,
            "align_content": null,
            "visibility": null,
            "align_self": null,
            "height": null,
            "min_height": null,
            "padding": null,
            "grid_auto_rows": null,
            "grid_gap": null,
            "max_width": null,
            "order": null,
            "_view_module_version": "1.2.0",
            "grid_template_areas": null,
            "object_position": null,
            "object_fit": null,
            "grid_auto_columns": null,
            "margin": null,
            "display": null,
            "left": null
          }
        },
        "8b5c2bf9e77e41b283e5a179f14695ae": {
          "model_module": "@jupyter-widgets/base",
          "model_name": "LayoutModel",
          "state": {
            "_view_name": "LayoutView",
            "grid_template_rows": null,
            "right": null,
            "justify_content": null,
            "_view_module": "@jupyter-widgets/base",
            "overflow": null,
            "_model_module_version": "1.2.0",
            "_view_count": null,
            "flex_flow": null,
            "width": null,
            "min_width": null,
            "border": null,
            "align_items": null,
            "bottom": null,
            "_model_module": "@jupyter-widgets/base",
            "top": null,
            "grid_column": null,
            "overflow_y": null,
            "overflow_x": null,
            "grid_auto_flow": null,
            "grid_area": null,
            "grid_template_columns": null,
            "flex": null,
            "_model_name": "LayoutModel",
            "justify_items": null,
            "grid_row": null,
            "max_height": null,
            "align_content": null,
            "visibility": null,
            "align_self": null,
            "height": null,
            "min_height": null,
            "padding": null,
            "grid_auto_rows": null,
            "grid_gap": null,
            "max_width": null,
            "order": null,
            "_view_module_version": "1.2.0",
            "grid_template_areas": null,
            "object_position": null,
            "object_fit": null,
            "grid_auto_columns": null,
            "margin": null,
            "display": null,
            "left": null
          }
        },
        "82a7b13998fc40e8a8181e3eb9c10099": {
          "model_module": "@jupyter-widgets/controls",
          "model_name": "VBoxModel",
          "state": {
            "_view_name": "VBoxView",
            "_dom_classes": [
              "widget-interact"
            ],
            "_model_name": "VBoxModel",
            "_view_module": "@jupyter-widgets/controls",
            "_model_module_version": "1.5.0",
            "_view_count": null,
            "_view_module_version": "1.5.0",
            "box_style": "",
            "layout": "IPY_MODEL_a4eee2b0abc444b29efd83ac7b7222a9",
            "_model_module": "@jupyter-widgets/controls",
            "children": [
              "IPY_MODEL_353e733248c94b9f8ae9ef5818c40832",
              "IPY_MODEL_38f18c92658c496683a3925a516debaf"
            ]
          }
        },
        "a4eee2b0abc444b29efd83ac7b7222a9": {
          "model_module": "@jupyter-widgets/base",
          "model_name": "LayoutModel",
          "state": {
            "_view_name": "LayoutView",
            "grid_template_rows": null,
            "right": null,
            "justify_content": null,
            "_view_module": "@jupyter-widgets/base",
            "overflow": null,
            "_model_module_version": "1.2.0",
            "_view_count": null,
            "flex_flow": null,
            "width": null,
            "min_width": null,
            "border": null,
            "align_items": null,
            "bottom": null,
            "_model_module": "@jupyter-widgets/base",
            "top": null,
            "grid_column": null,
            "overflow_y": null,
            "overflow_x": null,
            "grid_auto_flow": null,
            "grid_area": null,
            "grid_template_columns": null,
            "flex": null,
            "_model_name": "LayoutModel",
            "justify_items": null,
            "grid_row": null,
            "max_height": null,
            "align_content": null,
            "visibility": null,
            "align_self": null,
            "height": null,
            "min_height": null,
            "padding": null,
            "grid_auto_rows": null,
            "grid_gap": null,
            "max_width": null,
            "order": null,
            "_view_module_version": "1.2.0",
            "grid_template_areas": null,
            "object_position": null,
            "object_fit": null,
            "grid_auto_columns": null,
            "margin": null,
            "display": null,
            "left": null
          }
        },
        "353e733248c94b9f8ae9ef5818c40832": {
          "model_module": "@jupyter-widgets/controls",
          "model_name": "IntSliderModel",
          "state": {
            "_view_name": "IntSliderView",
            "style": "IPY_MODEL_a64004fe503d4dee84840799d4c62611",
            "_dom_classes": [],
            "description": "i",
            "step": 1,
            "_model_name": "IntSliderModel",
            "orientation": "horizontal",
            "max": 29,
            "_view_module": "@jupyter-widgets/controls",
            "_model_module_version": "1.5.0",
            "value": 6,
            "_view_count": null,
            "disabled": false,
            "_view_module_version": "1.5.0",
            "min": 0,
            "continuous_update": true,
            "readout_format": "d",
            "description_tooltip": null,
            "readout": true,
            "_model_module": "@jupyter-widgets/controls",
            "layout": "IPY_MODEL_b80f1ee5dd0743fa83d509d8c213dd72"
          }
        },
        "38f18c92658c496683a3925a516debaf": {
          "model_module": "@jupyter-widgets/output",
          "model_name": "OutputModel",
          "state": {
            "_view_name": "OutputView",
            "msg_id": "",
            "_dom_classes": [],
            "_model_name": "OutputModel",
            "outputs": [
              {
                "output_type": "display_data",
                "metadata": {
                  "tags": [],
                  "needs_background": "light"
                },
                "image/png": "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\n",
                "text/plain": "<Figure size 648x648 with 1 Axes>"
              }
            ],
            "_view_module": "@jupyter-widgets/output",
            "_model_module_version": "1.0.0",
            "_view_count": null,
            "_view_module_version": "1.0.0",
            "layout": "IPY_MODEL_16fc29f7e9f34c3f97b7085e437d6041",
            "_model_module": "@jupyter-widgets/output"
          }
        },
        "a64004fe503d4dee84840799d4c62611": {
          "model_module": "@jupyter-widgets/controls",
          "model_name": "SliderStyleModel",
          "state": {
            "_view_name": "StyleView",
            "handle_color": null,
            "_model_name": "SliderStyleModel",
            "description_width": "",
            "_view_module": "@jupyter-widgets/base",
            "_model_module_version": "1.5.0",
            "_view_count": null,
            "_view_module_version": "1.2.0",
            "_model_module": "@jupyter-widgets/controls"
          }
        },
        "b80f1ee5dd0743fa83d509d8c213dd72": {
          "model_module": "@jupyter-widgets/base",
          "model_name": "LayoutModel",
          "state": {
            "_view_name": "LayoutView",
            "grid_template_rows": null,
            "right": null,
            "justify_content": null,
            "_view_module": "@jupyter-widgets/base",
            "overflow": null,
            "_model_module_version": "1.2.0",
            "_view_count": null,
            "flex_flow": null,
            "width": null,
            "min_width": null,
            "border": null,
            "align_items": null,
            "bottom": null,
            "_model_module": "@jupyter-widgets/base",
            "top": null,
            "grid_column": null,
            "overflow_y": null,
            "overflow_x": null,
            "grid_auto_flow": null,
            "grid_area": null,
            "grid_template_columns": null,
            "flex": null,
            "_model_name": "LayoutModel",
            "justify_items": null,
            "grid_row": null,
            "max_height": null,
            "align_content": null,
            "visibility": null,
            "align_self": null,
            "height": null,
            "min_height": null,
            "padding": null,
            "grid_auto_rows": null,
            "grid_gap": null,
            "max_width": null,
            "order": null,
            "_view_module_version": "1.2.0",
            "grid_template_areas": null,
            "object_position": null,
            "object_fit": null,
            "grid_auto_columns": null,
            "margin": null,
            "display": null,
            "left": null
          }
        },
        "16fc29f7e9f34c3f97b7085e437d6041": {
          "model_module": "@jupyter-widgets/base",
          "model_name": "LayoutModel",
          "state": {
            "_view_name": "LayoutView",
            "grid_template_rows": null,
            "right": null,
            "justify_content": null,
            "_view_module": "@jupyter-widgets/base",
            "overflow": null,
            "_model_module_version": "1.2.0",
            "_view_count": null,
            "flex_flow": null,
            "width": null,
            "min_width": null,
            "border": null,
            "align_items": null,
            "bottom": null,
            "_model_module": "@jupyter-widgets/base",
            "top": null,
            "grid_column": null,
            "overflow_y": null,
            "overflow_x": null,
            "grid_auto_flow": null,
            "grid_area": null,
            "grid_template_columns": null,
            "flex": null,
            "_model_name": "LayoutModel",
            "justify_items": null,
            "grid_row": null,
            "max_height": null,
            "align_content": null,
            "visibility": null,
            "align_self": null,
            "height": null,
            "min_height": null,
            "padding": null,
            "grid_auto_rows": null,
            "grid_gap": null,
            "max_width": null,
            "order": null,
            "_view_module_version": "1.2.0",
            "grid_template_areas": null,
            "object_position": null,
            "object_fit": null,
            "grid_auto_columns": null,
            "margin": null,
            "display": null,
            "left": null
          }
        }
      }
    }
  },
  "cells": [
    {
      "cell_type": "markdown",
      "metadata": {
        "id": "view-in-github",
        "colab_type": "text"
      },
      "source": [
        "<a href=\"https://colab.research.google.com/github/123453ANSH/fMRIAnalysis/blob/main/Neurotech_fMRI_group.ipynb\" target=\"_parent\"><img src=\"https://colab.research.google.com/assets/colab-badge.svg\" alt=\"Open In Colab\"/></a>"
      ]
    },
    {
      "cell_type": "markdown",
      "metadata": {
        "id": "Jdzld21Q__Pz"
      },
      "source": [
        "Neurotech NMEP Group 5 fMRI Project: \n",
        "\n",
        "*Hypothesis/Research Question:*\n",
        "\n",
        "**Parts of study trying to reproduce:**\n",
        "\n",
        "**- Reproduce Figure 4 (demonstrating how neural correlates of integrative processing negatively affected by individual E-device usage)**\n",
        "\n",
        "**- Reproduce Table 2 (parts of table that demonstrate correlation between neuronal activation and E-device Usage); Neural Correlates of Sub-optimal KS Processing in Individuals with higher E-device Usage; Neural correlates of Suboptimal KS Processing in Individuals with lower E-devices Usage**\n",
        "\n",
        "**- Reproduce Figure 5, sections E & F (subsets of image that demonstrate neuronal activation during low and high e-device usage)**\n",
        "\n",
        "**With reproduced images and data, also provide written explanation showing significance of results for reading and E-devices**\n",
        "\n",
        "*Note -> if during any point in reproduction, feel other images/statistics needed to support hypothesis, include*\n",
        "\n",
        "\n",
        "**Preprocessing steps**\n",
        "\n",
        "Note -> was going to follow methods section of paper, but the software & techniques they use we felt would be too complex for us to feasibly do; therefore, we are attempting to use the preprocessing method taught to us through NMEP; if this preprocessing method does not yield the same processed data, we will look into other preprocessing methods to use\n",
        "\n",
        "Steps: \n",
        "\n",
        "1) transposing data \n",
        "\n",
        "2) masking data \n",
        "\n",
        "2) data visualization\n",
        "\n",
        "Journal Article - https://www.ncbi.nlm.nih.gov/pmc/articles/PMC6681173/\n",
        "\n",
        "fMRI dataset - https://openneuro.org/datasets/ds002247/versions/1.0.0/download\n",
        "\n",
        "Actual journal preprocessing steps (use later if need to go down this route): \n",
        "\n",
        "1) Preprocessing data via -> http://www.fil.ion.ucl.ac.uk/spm"
      ]
    },
    {
      "cell_type": "markdown",
      "metadata": {
        "id": "Y1DvgGCMflJi"
      },
      "source": [
        "Loading dataset:"
      ]
    },
    {
      "cell_type": "code",
      "metadata": {
        "id": "gghQZH4KpRw7"
      },
      "source": [
        "import nibabel\n",
        "import os\n",
        "import numpy as np\n",
        "import csv\n",
        "import matplotlib.pyplot as plt"
      ],
      "execution_count": 1,
      "outputs": []
    },
    {
      "cell_type": "code",
      "metadata": {
        "id": "8cR-Xcj6bCOc",
        "outputId": "39f45622-0d9a-4100-b315-f103b0b1dc47",
        "colab": {
          "base_uri": "https://localhost:8080/"
        }
      },
      "source": [
        "from google.colab import drive\n",
        "drive.mount('/content/gdrive')"
      ],
      "execution_count": 2,
      "outputs": [
        {
          "output_type": "stream",
          "text": [
            "Mounted at /content/gdrive\n"
          ],
          "name": "stdout"
        }
      ]
    },
    {
      "cell_type": "code",
      "metadata": {
        "id": "eR_dDuSTbZRV",
        "outputId": "ac2bfc51-e7b4-48e6-e621-7533daaa8c22",
        "colab": {
          "base_uri": "https://localhost:8080/"
        }
      },
      "source": [
        "!ls '/content/gdrive/My Drive/Neurotech fMRI Project Group/sub-01-fmap-sub-01_acq-multiband_dir-AP_epi.nii'"
      ],
      "execution_count": 3,
      "outputs": [
        {
          "output_type": "stream",
          "text": [
            "'/content/gdrive/My Drive/Neurotech fMRI Project Group/sub-01-fmap-sub-01_acq-multiband_dir-AP_epi.nii'\n"
          ],
          "name": "stdout"
        }
      ]
    },
    {
      "cell_type": "code",
      "metadata": {
        "id": "iaNQ4cKo1fOd"
      },
      "source": [
        "file_path = '/content/gdrive/My Drive/Neurotech fMRI Project Group/sub-01-fmap-sub-01_acq-multiband_dir-AP_epi.nii'"
      ],
      "execution_count": 4,
      "outputs": []
    },
    {
      "cell_type": "markdown",
      "metadata": {
        "id": "dCBTpv0OM-Sx"
      },
      "source": [
        "--"
      ]
    },
    {
      "cell_type": "code",
      "metadata": {
        "id": "jxQ2Me9k1_Py"
      },
      "source": [
        "image_path = os.path.join(file_path) "
      ],
      "execution_count": 6,
      "outputs": []
    },
    {
      "cell_type": "code",
      "metadata": {
        "id": "_b1qAcaS1dYT",
        "outputId": "4a4b78dd-9b80-4c1a-8cb1-a648346bf796",
        "colab": {
          "base_uri": "https://localhost:8080/"
        }
      },
      "source": [
        "fMRI_random_img = nibabel.load(image_path)\n",
        "fMRI_random_img"
      ],
      "execution_count": 7,
      "outputs": [
        {
          "output_type": "execute_result",
          "data": {
            "text/plain": [
              "<nibabel.nifti1.Nifti1Image at 0x7f1b2e464be0>"
            ]
          },
          "metadata": {
            "tags": []
          },
          "execution_count": 7
        }
      ]
    },
    {
      "cell_type": "markdown",
      "metadata": {
        "id": "FxOWtowcNZdG"
      },
      "source": [
        "Image shape:"
      ]
    },
    {
      "cell_type": "code",
      "metadata": {
        "id": "R2CBgL60NhD1",
        "outputId": "6d6e8a95-168c-4b79-adb0-289e884d6060",
        "colab": {
          "base_uri": "https://localhost:8080/"
        }
      },
      "source": [
        "\"\"\"Sanity check of data\"\"\"\n",
        "fMRI_random_img.shape"
      ],
      "execution_count": 10,
      "outputs": [
        {
          "output_type": "execute_result",
          "data": {
            "text/plain": [
              "(80, 80, 30, 4)"
            ]
          },
          "metadata": {
            "tags": []
          },
          "execution_count": 10
        }
      ]
    },
    {
      "cell_type": "markdown",
      "metadata": {
        "id": "AVuNVyKbNqsh"
      },
      "source": [
        "Note to self\n",
        "\n",
        "1) \n",
        "\n",
        "(X, Y, Z, T)\n",
        "\n",
        "Z corresponds to horizontal slices \n",
        "\n",
        "2) \n",
        "\n",
        ".get_fdata() -> gets data\n",
        "\n"
      ]
    },
    {
      "cell_type": "code",
      "metadata": {
        "id": "K4jizlVkN9JL",
        "outputId": "378c3803-93a4-4e3c-8c66-03dbf706cee5",
        "colab": {
          "base_uri": "https://localhost:8080/"
        }
      },
      "source": [
        "practice_data = fMRI_random_img.get_fdata()\n",
        "practice_data"
      ],
      "execution_count": 15,
      "outputs": [
        {
          "output_type": "execute_result",
          "data": {
            "text/plain": [
              "memmap([[[[ 0.,  0.,  0.,  0.],\n",
              "          [ 0.,  0.,  0.,  0.],\n",
              "          [ 0.,  0.,  0.,  0.],\n",
              "          ...,\n",
              "          [ 0.,  0.,  0.,  0.],\n",
              "          [ 0.,  0.,  0.,  0.],\n",
              "          [ 0.,  0.,  0.,  0.]],\n",
              "\n",
              "         [[ 0.,  0.,  0.,  0.],\n",
              "          [ 0.,  0.,  0.,  0.],\n",
              "          [ 0.,  0.,  0.,  0.],\n",
              "          ...,\n",
              "          [ 0.,  0.,  0.,  0.],\n",
              "          [ 0.,  0.,  0.,  0.],\n",
              "          [ 0.,  0.,  0.,  0.]],\n",
              "\n",
              "         [[ 0.,  0.,  0.,  0.],\n",
              "          [ 0.,  0.,  0.,  0.],\n",
              "          [ 0.,  0.,  0.,  0.],\n",
              "          ...,\n",
              "          [ 0.,  0.,  0.,  0.],\n",
              "          [ 0.,  0.,  0.,  0.],\n",
              "          [ 0.,  0.,  0.,  0.]],\n",
              "\n",
              "         ...,\n",
              "\n",
              "         [[ 0.,  0.,  0.,  0.],\n",
              "          [ 0.,  0.,  0.,  0.],\n",
              "          [ 0.,  0.,  0.,  0.],\n",
              "          ...,\n",
              "          [ 0.,  0.,  0.,  0.],\n",
              "          [ 0.,  0.,  0.,  0.],\n",
              "          [ 0.,  0.,  0.,  0.]],\n",
              "\n",
              "         [[ 0.,  0.,  0.,  0.],\n",
              "          [ 0.,  0.,  0.,  0.],\n",
              "          [ 0.,  0.,  0.,  0.],\n",
              "          ...,\n",
              "          [ 0.,  0.,  0.,  0.],\n",
              "          [ 0.,  0.,  0.,  0.],\n",
              "          [ 0.,  0.,  0.,  0.]],\n",
              "\n",
              "         [[ 0.,  0.,  0.,  0.],\n",
              "          [ 0.,  0.,  0.,  0.],\n",
              "          [ 0.,  0.,  0.,  0.],\n",
              "          ...,\n",
              "          [ 0.,  0.,  0.,  0.],\n",
              "          [ 0.,  0.,  0.,  0.],\n",
              "          [ 0.,  0.,  0.,  0.]]],\n",
              "\n",
              "\n",
              "        [[[14.,  6.,  2.,  2.],\n",
              "          [12.,  4.,  2.,  3.],\n",
              "          [17.,  3.,  3.,  2.],\n",
              "          ...,\n",
              "          [11.,  4.,  2.,  1.],\n",
              "          [14.,  2.,  0.,  2.],\n",
              "          [12.,  2.,  2.,  5.]],\n",
              "\n",
              "         [[14.,  5.,  1.,  2.],\n",
              "          [12.,  4.,  1.,  4.],\n",
              "          [17.,  3.,  2.,  2.],\n",
              "          ...,\n",
              "          [ 9.,  2.,  1.,  0.],\n",
              "          [12.,  3.,  1.,  4.],\n",
              "          [14.,  1.,  3.,  5.]],\n",
              "\n",
              "         [[14.,  1.,  1.,  2.],\n",
              "          [20.,  4.,  4.,  6.],\n",
              "          [21.,  3.,  1.,  5.],\n",
              "          ...,\n",
              "          [19.,  4.,  3.,  2.],\n",
              "          [18.,  8.,  4.,  3.],\n",
              "          [18., 10.,  2.,  6.]],\n",
              "\n",
              "         ...,\n",
              "\n",
              "         [[14.,  2.,  2.,  7.],\n",
              "          [11.,  6.,  1.,  3.],\n",
              "          [19.,  5.,  4.,  3.],\n",
              "          ...,\n",
              "          [23.,  2.,  2.,  2.],\n",
              "          [17.,  1.,  8.,  6.],\n",
              "          [17.,  9.,  8.,  5.]],\n",
              "\n",
              "         [[16.,  2.,  1.,  3.],\n",
              "          [12.,  6.,  2.,  2.],\n",
              "          [11.,  4.,  5.,  1.],\n",
              "          ...,\n",
              "          [15.,  6.,  7.,  2.],\n",
              "          [20.,  2.,  7.,  9.],\n",
              "          [25.,  1.,  7.,  6.]],\n",
              "\n",
              "         [[10.,  3.,  5.,  1.],\n",
              "          [ 6.,  1.,  2.,  0.],\n",
              "          [ 9.,  1.,  0.,  1.],\n",
              "          ...,\n",
              "          [14.,  7.,  7.,  4.],\n",
              "          [14.,  4.,  3.,  3.],\n",
              "          [16.,  3.,  6.,  3.]]],\n",
              "\n",
              "\n",
              "        [[[12.,  6.,  4.,  9.],\n",
              "          [12.,  2.,  2.,  4.],\n",
              "          [14.,  7.,  2.,  3.],\n",
              "          ...,\n",
              "          [13.,  3.,  0.,  2.],\n",
              "          [15.,  2.,  0.,  4.],\n",
              "          [22.,  2.,  2.,  1.]],\n",
              "\n",
              "         [[11.,  6.,  3.,  8.],\n",
              "          [13.,  2.,  2.,  4.],\n",
              "          [16.,  6.,  1.,  3.],\n",
              "          ...,\n",
              "          [16.,  6.,  5.,  7.],\n",
              "          [13.,  2.,  6.,  7.],\n",
              "          [14.,  6.,  6.,  2.]],\n",
              "\n",
              "         [[20., 13.,  2.,  2.],\n",
              "          [18.,  8.,  0., 13.],\n",
              "          [10.,  6.,  6.,  6.],\n",
              "          ...,\n",
              "          [23.,  4.,  8.,  9.],\n",
              "          [23.,  3.,  3.,  9.],\n",
              "          [22.,  7.,  2.,  9.]],\n",
              "\n",
              "         ...,\n",
              "\n",
              "         [[20.,  4.,  7.,  5.],\n",
              "          [20.,  5.,  5.,  2.],\n",
              "          [12., 10.,  3.,  5.],\n",
              "          ...,\n",
              "          [17., 14., 10., 12.],\n",
              "          [24., 14.,  7.,  7.],\n",
              "          [20.,  8.,  6.,  3.]],\n",
              "\n",
              "         [[14.,  5.,  8.,  9.],\n",
              "          [ 8.,  1.,  6.,  2.],\n",
              "          [18.,  7.,  4.,  0.],\n",
              "          ...,\n",
              "          [26., 13.,  6., 11.],\n",
              "          [36.,  8., 12., 10.],\n",
              "          [21., 13.,  5.,  5.]],\n",
              "\n",
              "         [[11.,  1.,  5.,  2.],\n",
              "          [19.,  3.,  5.,  4.],\n",
              "          [13.,  6.,  7.,  3.],\n",
              "          ...,\n",
              "          [21.,  8.,  4., 10.],\n",
              "          [23.,  6.,  8.,  3.],\n",
              "          [14.,  6.,  5.,  6.]]],\n",
              "\n",
              "\n",
              "        ...,\n",
              "\n",
              "\n",
              "        [[[21., 13.,  5.,  6.],\n",
              "          [23., 15.,  1.,  5.],\n",
              "          [25.,  4.,  9.,  5.],\n",
              "          ...,\n",
              "          [18.,  4.,  9.,  1.],\n",
              "          [29.,  8.,  7.,  5.],\n",
              "          [30.,  5.,  5., 11.]],\n",
              "\n",
              "         [[20., 15.,  4.,  6.],\n",
              "          [19., 12.,  2.,  7.],\n",
              "          [21.,  7., 10.,  4.],\n",
              "          ...,\n",
              "          [11.,  6.,  2.,  1.],\n",
              "          [20.,  8., 15.,  3.],\n",
              "          [11.,  9.,  9., 12.]],\n",
              "\n",
              "         [[34., 19.,  1.,  6.],\n",
              "          [26., 15., 15., 11.],\n",
              "          [27., 13.,  4., 12.],\n",
              "          ...,\n",
              "          [22.,  4.,  5., 10.],\n",
              "          [38., 20., 12., 17.],\n",
              "          [27.,  4., 17.,  3.]],\n",
              "\n",
              "         ...,\n",
              "\n",
              "         [[10., 11., 16., 13.],\n",
              "          [35., 10.,  7., 10.],\n",
              "          [24., 10., 16., 13.],\n",
              "          ...,\n",
              "          [43., 15., 10.,  7.],\n",
              "          [34., 19.,  3., 15.],\n",
              "          [42.,  6., 23., 16.]],\n",
              "\n",
              "         [[32.,  8.,  6.,  5.],\n",
              "          [29.,  7., 13.,  0.],\n",
              "          [22.,  7.,  7., 12.],\n",
              "          ...,\n",
              "          [50.,  9.,  7., 14.],\n",
              "          [31., 29.,  7., 13.],\n",
              "          [27., 11., 10., 23.]],\n",
              "\n",
              "         [[25.,  6.,  3.,  6.],\n",
              "          [21., 19., 11., 12.],\n",
              "          [21.,  6., 12.,  6.],\n",
              "          ...,\n",
              "          [30., 10.,  3.,  6.],\n",
              "          [21., 10., 13., 11.],\n",
              "          [37.,  9., 12., 14.]]],\n",
              "\n",
              "\n",
              "        [[[18.,  7.,  6.,  4.],\n",
              "          [20.,  9.,  5.,  2.],\n",
              "          [17.,  9.,  3.,  7.],\n",
              "          ...,\n",
              "          [20., 10.,  7.,  7.],\n",
              "          [18., 11.,  5.,  1.],\n",
              "          [20., 10.,  5., 10.]],\n",
              "\n",
              "         [[21.,  7.,  5.,  5.],\n",
              "          [25., 10.,  5.,  4.],\n",
              "          [15., 13.,  3.,  8.],\n",
              "          ...,\n",
              "          [20.,  7., 11.,  6.],\n",
              "          [22., 11., 17.,  0.],\n",
              "          [ 7.,  8., 16., 14.]],\n",
              "\n",
              "         [[31.,  9.,  9., 14.],\n",
              "          [33.,  5., 10., 11.],\n",
              "          [25.,  8.,  9., 20.],\n",
              "          ...,\n",
              "          [26., 15., 10., 14.],\n",
              "          [40.,  1.,  8., 27.],\n",
              "          [38., 20., 10.,  8.]],\n",
              "\n",
              "         ...,\n",
              "\n",
              "         [[22., 14.,  7.,  4.],\n",
              "          [35.,  3.,  1., 23.],\n",
              "          [24.,  7.,  6.,  8.],\n",
              "          ...,\n",
              "          [31., 22.,  5., 18.],\n",
              "          [44.,  7., 13.,  9.],\n",
              "          [40., 15., 13., 17.]],\n",
              "\n",
              "         [[29.,  8.,  5., 11.],\n",
              "          [22.,  0.,  3.,  7.],\n",
              "          [28., 12.,  8.,  7.],\n",
              "          ...,\n",
              "          [47., 35., 21., 14.],\n",
              "          [24., 13., 18.,  8.],\n",
              "          [34., 17.,  8.,  7.]],\n",
              "\n",
              "         [[19.,  4.,  4., 12.],\n",
              "          [18., 14.,  7.,  9.],\n",
              "          [ 9.,  2.,  7.,  6.],\n",
              "          ...,\n",
              "          [30.,  7.,  7., 13.],\n",
              "          [23., 22., 20., 17.],\n",
              "          [27., 11., 13., 10.]]],\n",
              "\n",
              "\n",
              "        [[[17.,  3.,  4.,  3.],\n",
              "          [18.,  8.,  5.,  7.],\n",
              "          [23.,  4.,  4.,  5.],\n",
              "          ...,\n",
              "          [16.,  1.,  1.,  7.],\n",
              "          [14.,  3.,  8.,  0.],\n",
              "          [24.,  4., 10.,  8.]],\n",
              "\n",
              "         [[15.,  2.,  4.,  3.],\n",
              "          [21., 11.,  7.,  9.],\n",
              "          [22.,  5.,  5.,  4.],\n",
              "          ...,\n",
              "          [10.,  3.,  2., 15.],\n",
              "          [16.,  4.,  4.,  4.],\n",
              "          [27., 10.,  9.,  5.]],\n",
              "\n",
              "         [[20.,  3.,  4.,  9.],\n",
              "          [26.,  8.,  8.,  9.],\n",
              "          [15.,  7.,  6.,  2.],\n",
              "          ...,\n",
              "          [28., 16.,  6., 10.],\n",
              "          [25., 10., 17., 10.],\n",
              "          [34.,  3.,  5.,  4.]],\n",
              "\n",
              "         ...,\n",
              "\n",
              "         [[13.,  1., 10., 10.],\n",
              "          [24.,  2.,  4., 10.],\n",
              "          [23.,  6.,  3., 19.],\n",
              "          ...,\n",
              "          [18., 21.,  8.,  1.],\n",
              "          [29., 24.,  2.,  8.],\n",
              "          [39., 13., 13., 20.]],\n",
              "\n",
              "         [[20.,  7., 10.,  3.],\n",
              "          [ 4.,  3.,  4.,  4.],\n",
              "          [19.,  4.,  5., 16.],\n",
              "          ...,\n",
              "          [37., 11.,  9., 11.],\n",
              "          [46., 16.,  2.,  8.],\n",
              "          [44., 14.,  8.,  7.]],\n",
              "\n",
              "         [[19.,  4.,  4.,  2.],\n",
              "          [13.,  1.,  6.,  6.],\n",
              "          [17.,  5.,  1.,  8.],\n",
              "          ...,\n",
              "          [40., 14., 13., 10.],\n",
              "          [38.,  2.,  6., 11.],\n",
              "          [27., 10., 11., 10.]]]])"
            ]
          },
          "metadata": {
            "tags": []
          },
          "execution_count": 15
        }
      ]
    },
    {
      "cell_type": "code",
      "metadata": {
        "id": "0HEyWRozOva1",
        "outputId": "59f439c2-49df-4760-cf9a-555cfbd3eda5",
        "colab": {
          "base_uri": "https://localhost:8080/"
        }
      },
      "source": [
        "print('data type: ', practice_data.dtype)\n",
        "print('data shape: ', practice_data.shape)"
      ],
      "execution_count": 16,
      "outputs": [
        {
          "output_type": "stream",
          "text": [
            "data type:  float64\n",
            "data shape:  (80, 80, 30, 4)\n"
          ],
          "name": "stdout"
        }
      ]
    },
    {
      "cell_type": "code",
      "metadata": {
        "id": "8kkoZYcuOL-_",
        "outputId": "13606f6e-73d0-4853-9020-8469f9d695ef",
        "colab": {
          "base_uri": "https://localhost:8080/"
        }
      },
      "source": [
        "\"\"\"Check to see if img data is in local memory/cache\"\"\"\n",
        "\n",
        "fMRI_random_img.in_memory"
      ],
      "execution_count": 20,
      "outputs": [
        {
          "output_type": "execute_result",
          "data": {
            "text/plain": [
              "True"
            ]
          },
          "metadata": {
            "tags": []
          },
          "execution_count": 20
        }
      ]
    },
    {
      "cell_type": "markdown",
      "metadata": {
        "id": "UvL-A6mqOU5f"
      },
      "source": [
        "Below is the image header for file, or a summary of all of the image information:"
      ]
    },
    {
      "cell_type": "code",
      "metadata": {
        "id": "VhshCqt8FnNi",
        "outputId": "aa4ac186-d25d-490c-c1ff-1493c496e806",
        "colab": {
          "base_uri": "https://localhost:8080/"
        }
      },
      "source": [
        "print(fMRI_random_img.header)"
      ],
      "execution_count": 21,
      "outputs": [
        {
          "output_type": "stream",
          "text": [
            "<class 'nibabel.nifti1.Nifti1Header'> object, endian='<'\n",
            "sizeof_hdr      : 348\n",
            "data_type       : b''\n",
            "db_name         : b'cmrr_mbep2d_se'\n",
            "extents         : 0\n",
            "session_error   : 0\n",
            "regular         : b'r'\n",
            "dim_info        : 48\n",
            "dim             : [ 4 80 80 30  4  1  1  1]\n",
            "intent_p1       : 0.0\n",
            "intent_p2       : 0.0\n",
            "intent_p3       : 0.0\n",
            "intent_code     : none\n",
            "datatype        : float32\n",
            "bitpix          : 32\n",
            "slice_start     : 0\n",
            "pixdim          : [-1.000000e+00  3.000000e+00  3.000000e+00  4.000000e+00  3.000000e+00\n",
            "  1.000000e+00  5.799926e-01  5.896988e+04]\n",
            "vox_offset      : 0.0\n",
            "scl_slope       : nan\n",
            "scl_inter       : nan\n",
            "slice_end       : 29\n",
            "slice_code      : alternating increasing 2\n",
            "xyzt_units      : 10\n",
            "cal_max         : 0.0\n",
            "cal_min         : 0.0\n",
            "slice_duration  : 46.399406\n",
            "toffset         : 0.0\n",
            "glmax           : 255\n",
            "glmin           : 0\n",
            "descrip         : b'TE=51.20000076;sec=58969.8800;phaseDir=+;dwell=0.580'\n",
            "aux_file        : b'SENSE1'\n",
            "qform_code      : scanner\n",
            "sform_code      : scanner\n",
            "quatern_b       : 0.0005355546\n",
            "quatern_c       : -0.99571395\n",
            "quatern_d       : -0.09230396\n",
            "qoffset_x       : 123.54874\n",
            "qoffset_y       : -86.1432\n",
            "qoffset_z       : -95.1262\n",
            "srow_x          : [-2.9997978e+00  0.0000000e+00  4.6414569e-02  1.2354874e+02]\n",
            "srow_y          : [-6.3991095e-03  2.9488783e+00 -7.3524201e-01 -8.6143204e+01]\n",
            "srow_z          : [ 3.4217715e-02  5.5146867e-01  3.9315727e+00 -9.5126198e+01]\n",
            "intent_name     : b''\n",
            "magic           : b'n+1'\n"
          ],
          "name": "stdout"
        }
      ]
    },
    {
      "cell_type": "markdown",
      "metadata": {
        "id": "8LqW1WaXOevK"
      },
      "source": [
        "Preprocessing step #1: \n",
        "\n",
        "transpose data array demensions (X, Y, Z, T) -> (T, Z, Y, X)"
      ]
    },
    {
      "cell_type": "code",
      "metadata": {
        "id": "GBgcYrnt98pj",
        "outputId": "91648806-9835-4b1b-d7d4-d87fe49e8a25",
        "colab": {
          "base_uri": "https://localhost:8080/"
        }
      },
      "source": [
        "\"\"\"Visualize transposed data\"\"\"\n",
        "transposed_data = practice_data.T\n",
        "transposed_data"
      ],
      "execution_count": 25,
      "outputs": [
        {
          "output_type": "execute_result",
          "data": {
            "text/plain": [
              "memmap([[[[ 0., 14., 12., ..., 21., 18., 17.],\n",
              "          [ 0., 14., 11., ..., 20., 21., 15.],\n",
              "          [ 0., 14., 20., ..., 34., 31., 20.],\n",
              "          ...,\n",
              "          [ 0., 14., 20., ..., 10., 22., 13.],\n",
              "          [ 0., 16., 14., ..., 32., 29., 20.],\n",
              "          [ 0., 10., 11., ..., 25., 19., 19.]],\n",
              "\n",
              "         [[ 0., 12., 12., ..., 23., 20., 18.],\n",
              "          [ 0., 12., 13., ..., 19., 25., 21.],\n",
              "          [ 0., 20., 18., ..., 26., 33., 26.],\n",
              "          ...,\n",
              "          [ 0., 11., 20., ..., 35., 35., 24.],\n",
              "          [ 0., 12.,  8., ..., 29., 22.,  4.],\n",
              "          [ 0.,  6., 19., ..., 21., 18., 13.]],\n",
              "\n",
              "         [[ 0., 17., 14., ..., 25., 17., 23.],\n",
              "          [ 0., 17., 16., ..., 21., 15., 22.],\n",
              "          [ 0., 21., 10., ..., 27., 25., 15.],\n",
              "          ...,\n",
              "          [ 0., 19., 12., ..., 24., 24., 23.],\n",
              "          [ 0., 11., 18., ..., 22., 28., 19.],\n",
              "          [ 0.,  9., 13., ..., 21.,  9., 17.]],\n",
              "\n",
              "         ...,\n",
              "\n",
              "         [[ 0., 11., 13., ..., 18., 20., 16.],\n",
              "          [ 0.,  9., 16., ..., 11., 20., 10.],\n",
              "          [ 0., 19., 23., ..., 22., 26., 28.],\n",
              "          ...,\n",
              "          [ 0., 23., 17., ..., 43., 31., 18.],\n",
              "          [ 0., 15., 26., ..., 50., 47., 37.],\n",
              "          [ 0., 14., 21., ..., 30., 30., 40.]],\n",
              "\n",
              "         [[ 0., 14., 15., ..., 29., 18., 14.],\n",
              "          [ 0., 12., 13., ..., 20., 22., 16.],\n",
              "          [ 0., 18., 23., ..., 38., 40., 25.],\n",
              "          ...,\n",
              "          [ 0., 17., 24., ..., 34., 44., 29.],\n",
              "          [ 0., 20., 36., ..., 31., 24., 46.],\n",
              "          [ 0., 14., 23., ..., 21., 23., 38.]],\n",
              "\n",
              "         [[ 0., 12., 22., ..., 30., 20., 24.],\n",
              "          [ 0., 14., 14., ..., 11.,  7., 27.],\n",
              "          [ 0., 18., 22., ..., 27., 38., 34.],\n",
              "          ...,\n",
              "          [ 0., 17., 20., ..., 42., 40., 39.],\n",
              "          [ 0., 25., 21., ..., 27., 34., 44.],\n",
              "          [ 0., 16., 14., ..., 37., 27., 27.]]],\n",
              "\n",
              "\n",
              "        [[[ 0.,  6.,  6., ..., 13.,  7.,  3.],\n",
              "          [ 0.,  5.,  6., ..., 15.,  7.,  2.],\n",
              "          [ 0.,  1., 13., ..., 19.,  9.,  3.],\n",
              "          ...,\n",
              "          [ 0.,  2.,  4., ..., 11., 14.,  1.],\n",
              "          [ 0.,  2.,  5., ...,  8.,  8.,  7.],\n",
              "          [ 0.,  3.,  1., ...,  6.,  4.,  4.]],\n",
              "\n",
              "         [[ 0.,  4.,  2., ..., 15.,  9.,  8.],\n",
              "          [ 0.,  4.,  2., ..., 12., 10., 11.],\n",
              "          [ 0.,  4.,  8., ..., 15.,  5.,  8.],\n",
              "          ...,\n",
              "          [ 0.,  6.,  5., ..., 10.,  3.,  2.],\n",
              "          [ 0.,  6.,  1., ...,  7.,  0.,  3.],\n",
              "          [ 0.,  1.,  3., ..., 19., 14.,  1.]],\n",
              "\n",
              "         [[ 0.,  3.,  7., ...,  4.,  9.,  4.],\n",
              "          [ 0.,  3.,  6., ...,  7., 13.,  5.],\n",
              "          [ 0.,  3.,  6., ..., 13.,  8.,  7.],\n",
              "          ...,\n",
              "          [ 0.,  5., 10., ..., 10.,  7.,  6.],\n",
              "          [ 0.,  4.,  7., ...,  7., 12.,  4.],\n",
              "          [ 0.,  1.,  6., ...,  6.,  2.,  5.]],\n",
              "\n",
              "         ...,\n",
              "\n",
              "         [[ 0.,  4.,  3., ...,  4., 10.,  1.],\n",
              "          [ 0.,  2.,  6., ...,  6.,  7.,  3.],\n",
              "          [ 0.,  4.,  4., ...,  4., 15., 16.],\n",
              "          ...,\n",
              "          [ 0.,  2., 14., ..., 15., 22., 21.],\n",
              "          [ 0.,  6., 13., ...,  9., 35., 11.],\n",
              "          [ 0.,  7.,  8., ..., 10.,  7., 14.]],\n",
              "\n",
              "         [[ 0.,  2.,  2., ...,  8., 11.,  3.],\n",
              "          [ 0.,  3.,  2., ...,  8., 11.,  4.],\n",
              "          [ 0.,  8.,  3., ..., 20.,  1., 10.],\n",
              "          ...,\n",
              "          [ 0.,  1., 14., ..., 19.,  7., 24.],\n",
              "          [ 0.,  2.,  8., ..., 29., 13., 16.],\n",
              "          [ 0.,  4.,  6., ..., 10., 22.,  2.]],\n",
              "\n",
              "         [[ 0.,  2.,  2., ...,  5., 10.,  4.],\n",
              "          [ 0.,  1.,  6., ...,  9.,  8., 10.],\n",
              "          [ 0., 10.,  7., ...,  4., 20.,  3.],\n",
              "          ...,\n",
              "          [ 0.,  9.,  8., ...,  6., 15., 13.],\n",
              "          [ 0.,  1., 13., ..., 11., 17., 14.],\n",
              "          [ 0.,  3.,  6., ...,  9., 11., 10.]]],\n",
              "\n",
              "\n",
              "        [[[ 0.,  2.,  4., ...,  5.,  6.,  4.],\n",
              "          [ 0.,  1.,  3., ...,  4.,  5.,  4.],\n",
              "          [ 0.,  1.,  2., ...,  1.,  9.,  4.],\n",
              "          ...,\n",
              "          [ 0.,  2.,  7., ..., 16.,  7., 10.],\n",
              "          [ 0.,  1.,  8., ...,  6.,  5., 10.],\n",
              "          [ 0.,  5.,  5., ...,  3.,  4.,  4.]],\n",
              "\n",
              "         [[ 0.,  2.,  2., ...,  1.,  5.,  5.],\n",
              "          [ 0.,  1.,  2., ...,  2.,  5.,  7.],\n",
              "          [ 0.,  4.,  0., ..., 15., 10.,  8.],\n",
              "          ...,\n",
              "          [ 0.,  1.,  5., ...,  7.,  1.,  4.],\n",
              "          [ 0.,  2.,  6., ..., 13.,  3.,  4.],\n",
              "          [ 0.,  2.,  5., ..., 11.,  7.,  6.]],\n",
              "\n",
              "         [[ 0.,  3.,  2., ...,  9.,  3.,  4.],\n",
              "          [ 0.,  2.,  1., ..., 10.,  3.,  5.],\n",
              "          [ 0.,  1.,  6., ...,  4.,  9.,  6.],\n",
              "          ...,\n",
              "          [ 0.,  4.,  3., ..., 16.,  6.,  3.],\n",
              "          [ 0.,  5.,  4., ...,  7.,  8.,  5.],\n",
              "          [ 0.,  0.,  7., ..., 12.,  7.,  1.]],\n",
              "\n",
              "         ...,\n",
              "\n",
              "         [[ 0.,  2.,  0., ...,  9.,  7.,  1.],\n",
              "          [ 0.,  1.,  5., ...,  2., 11.,  2.],\n",
              "          [ 0.,  3.,  8., ...,  5., 10.,  6.],\n",
              "          ...,\n",
              "          [ 0.,  2., 10., ..., 10.,  5.,  8.],\n",
              "          [ 0.,  7.,  6., ...,  7., 21.,  9.],\n",
              "          [ 0.,  7.,  4., ...,  3.,  7., 13.]],\n",
              "\n",
              "         [[ 0.,  0.,  0., ...,  7.,  5.,  8.],\n",
              "          [ 0.,  1.,  6., ..., 15., 17.,  4.],\n",
              "          [ 0.,  4.,  3., ..., 12.,  8., 17.],\n",
              "          ...,\n",
              "          [ 0.,  8.,  7., ...,  3., 13.,  2.],\n",
              "          [ 0.,  7., 12., ...,  7., 18.,  2.],\n",
              "          [ 0.,  3.,  8., ..., 13., 20.,  6.]],\n",
              "\n",
              "         [[ 0.,  2.,  2., ...,  5.,  5., 10.],\n",
              "          [ 0.,  3.,  6., ...,  9., 16.,  9.],\n",
              "          [ 0.,  2.,  2., ..., 17., 10.,  5.],\n",
              "          ...,\n",
              "          [ 0.,  8.,  6., ..., 23., 13., 13.],\n",
              "          [ 0.,  7.,  5., ..., 10.,  8.,  8.],\n",
              "          [ 0.,  6.,  5., ..., 12., 13., 11.]]],\n",
              "\n",
              "\n",
              "        [[[ 0.,  2.,  9., ...,  6.,  4.,  3.],\n",
              "          [ 0.,  2.,  8., ...,  6.,  5.,  3.],\n",
              "          [ 0.,  2.,  2., ...,  6., 14.,  9.],\n",
              "          ...,\n",
              "          [ 0.,  7.,  5., ..., 13.,  4., 10.],\n",
              "          [ 0.,  3.,  9., ...,  5., 11.,  3.],\n",
              "          [ 0.,  1.,  2., ...,  6., 12.,  2.]],\n",
              "\n",
              "         [[ 0.,  3.,  4., ...,  5.,  2.,  7.],\n",
              "          [ 0.,  4.,  4., ...,  7.,  4.,  9.],\n",
              "          [ 0.,  6., 13., ..., 11., 11.,  9.],\n",
              "          ...,\n",
              "          [ 0.,  3.,  2., ..., 10., 23., 10.],\n",
              "          [ 0.,  2.,  2., ...,  0.,  7.,  4.],\n",
              "          [ 0.,  0.,  4., ..., 12.,  9.,  6.]],\n",
              "\n",
              "         [[ 0.,  2.,  3., ...,  5.,  7.,  5.],\n",
              "          [ 0.,  2.,  3., ...,  4.,  8.,  4.],\n",
              "          [ 0.,  5.,  6., ..., 12., 20.,  2.],\n",
              "          ...,\n",
              "          [ 0.,  3.,  5., ..., 13.,  8., 19.],\n",
              "          [ 0.,  1.,  0., ..., 12.,  7., 16.],\n",
              "          [ 0.,  1.,  3., ...,  6.,  6.,  8.]],\n",
              "\n",
              "         ...,\n",
              "\n",
              "         [[ 0.,  1.,  2., ...,  1.,  7.,  7.],\n",
              "          [ 0.,  0.,  7., ...,  1.,  6., 15.],\n",
              "          [ 0.,  2.,  9., ..., 10., 14., 10.],\n",
              "          ...,\n",
              "          [ 0.,  2., 12., ...,  7., 18.,  1.],\n",
              "          [ 0.,  2., 11., ..., 14., 14., 11.],\n",
              "          [ 0.,  4., 10., ...,  6., 13., 10.]],\n",
              "\n",
              "         [[ 0.,  2.,  4., ...,  5.,  1.,  0.],\n",
              "          [ 0.,  4.,  7., ...,  3.,  0.,  4.],\n",
              "          [ 0.,  3.,  9., ..., 17., 27., 10.],\n",
              "          ...,\n",
              "          [ 0.,  6.,  7., ..., 15.,  9.,  8.],\n",
              "          [ 0.,  9., 10., ..., 13.,  8.,  8.],\n",
              "          [ 0.,  3.,  3., ..., 11., 17., 11.]],\n",
              "\n",
              "         [[ 0.,  5.,  1., ..., 11., 10.,  8.],\n",
              "          [ 0.,  5.,  2., ..., 12., 14.,  5.],\n",
              "          [ 0.,  6.,  9., ...,  3.,  8.,  4.],\n",
              "          ...,\n",
              "          [ 0.,  5.,  3., ..., 16., 17., 20.],\n",
              "          [ 0.,  6.,  5., ..., 23.,  7.,  7.],\n",
              "          [ 0.,  3.,  6., ..., 14., 10., 10.]]]])"
            ]
          },
          "metadata": {
            "tags": []
          },
          "execution_count": 25
        }
      ]
    },
    {
      "cell_type": "code",
      "metadata": {
        "id": "_yuzr3juOroB",
        "outputId": "fe0550a2-a406-452c-92ff-3574a669b83d",
        "colab": {
          "base_uri": "https://localhost:8080/"
        }
      },
      "source": [
        "\n",
        "print('data type: ', transposed_data.dtype)\n",
        "print('data shape: ', transposed_data.shape)"
      ],
      "execution_count": 26,
      "outputs": [
        {
          "output_type": "stream",
          "text": [
            "data type:  float64\n",
            "data shape:  (4, 30, 80, 80)\n"
          ],
          "name": "stdout"
        }
      ]
    },
    {
      "cell_type": "markdown",
      "metadata": {
        "id": "mDsTwMS1LJFo"
      },
      "source": [
        "# **4D fMRI Data Manipulation**\n",
        "\n",
        "Ok so now we have a 4-dimension array of fMRI data. Remember that this is essentially a 4D scan containing volumetric/voxel data over a series of time points."
      ]
    },
    {
      "cell_type": "markdown",
      "metadata": {
        "id": "J6_dKF1FmA06"
      },
      "source": [
        "**Indexing**\n",
        "\n",
        "Using the transposed data, we can isolate the voxel time series data by looking at a single voxel, say (1, 1, 1) over all of the time points. Remember that time is the first dimension:"
      ]
    },
    {
      "cell_type": "code",
      "metadata": {
        "id": "48svPaGvO5v7",
        "outputId": "28b5ee2d-3e14-4bf8-b567-27f4fbd03f69",
        "colab": {
          "base_uri": "https://localhost:8080/"
        }
      },
      "source": [
        "first_time_series = transposed_data[:, 1, 1, 1]\n",
        "print(first_time_series.shape)\n",
        "first_time_series"
      ],
      "execution_count": 27,
      "outputs": [
        {
          "output_type": "stream",
          "text": [
            "(4,)\n"
          ],
          "name": "stdout"
        },
        {
          "output_type": "execute_result",
          "data": {
            "text/plain": [
              "array([12.,  4.,  1.,  4.])"
            ]
          },
          "metadata": {
            "tags": []
          },
          "execution_count": 27
        }
      ]
    },
    {
      "cell_type": "markdown",
      "metadata": {
        "id": "0YYpQeccpKAD"
      },
      "source": [
        "**Mean**\n",
        "\n",
        "When working with 4D fMRI data arrays, it can be useful to take a descriptive statistic across time series values especially for pre-processing. For example, taking the mean of the volume data over time gives a descriptive statistic for the whole brain representing the 3D mean volume.\n",
        "\n",
        "To take the mean over **time** (which is the first dimension) we just have to specify the axis:"
      ]
    },
    {
      "cell_type": "code",
      "metadata": {
        "id": "lvxudjsHnM-6",
        "outputId": "241f52b0-5650-438d-ffd2-98c69716bdfd",
        "colab": {
          "base_uri": "https://localhost:8080/"
        }
      },
      "source": [
        "data_mean = transposed_data.mean(axis=0) #axis=0 specifies axis as time, the first (0) dimension\n",
        "print(data_mean.shape)\n",
        "data_mean"
      ],
      "execution_count": 17,
      "outputs": [
        {
          "output_type": "stream",
          "text": [
            "(30, 80, 80)\n"
          ],
          "name": "stdout"
        },
        {
          "output_type": "execute_result",
          "data": {
            "text/plain": [
              "array([[[ 0.  ,  6.  ,  7.75, ..., 11.25,  8.75,  6.75],\n",
              "        [ 0.  ,  5.5 ,  7.  , ..., 11.25,  9.5 ,  6.  ],\n",
              "        [ 0.  ,  4.5 ,  9.25, ..., 15.  , 15.75,  9.  ],\n",
              "        ...,\n",
              "        [ 0.  ,  6.25,  9.  , ..., 12.5 , 11.75,  8.5 ],\n",
              "        [ 0.  ,  5.5 ,  9.  , ..., 12.75, 13.25, 10.  ],\n",
              "        [ 0.  ,  4.75,  4.75, ..., 10.  ,  9.75,  7.25]],\n",
              "\n",
              "       [[ 0.  ,  5.25,  5.  , ..., 11.  ,  9.  ,  9.5 ],\n",
              "        [ 0.  ,  5.25,  5.25, ..., 10.  , 11.  , 12.  ],\n",
              "        [ 0.  ,  8.5 ,  9.75, ..., 16.75, 14.75, 12.75],\n",
              "        ...,\n",
              "        [ 0.  ,  5.25,  8.  , ..., 15.5 , 15.5 , 10.  ],\n",
              "        [ 0.  ,  5.5 ,  4.25, ..., 12.25,  8.  ,  3.75],\n",
              "        [ 0.  ,  2.25,  7.75, ..., 15.75, 12.  ,  6.5 ]],\n",
              "\n",
              "       [[ 0.  ,  6.25,  6.5 , ..., 10.75,  9.  ,  9.  ],\n",
              "        [ 0.  ,  6.  ,  6.5 , ..., 10.5 ,  9.75,  9.  ],\n",
              "        [ 0.  ,  7.5 ,  7.  , ..., 14.  , 15.5 ,  7.5 ],\n",
              "        ...,\n",
              "        [ 0.  ,  7.75,  7.5 , ..., 15.75, 11.25, 12.75],\n",
              "        [ 0.  ,  5.25,  7.25, ..., 12.  , 13.75, 11.  ],\n",
              "        [ 0.  ,  2.75,  7.25, ..., 11.25,  6.  ,  7.75]],\n",
              "\n",
              "       ...,\n",
              "\n",
              "       [[ 0.  ,  4.5 ,  4.5 , ...,  8.  , 11.  ,  6.25],\n",
              "        [ 0.  ,  3.  ,  8.5 , ...,  5.  , 11.  ,  7.5 ],\n",
              "        [ 0.  ,  7.  , 11.  , ..., 10.25, 16.25, 15.  ],\n",
              "        ...,\n",
              "        [ 0.  ,  7.25, 13.25, ..., 18.75, 19.  , 12.  ],\n",
              "        [ 0.  ,  7.5 , 14.  , ..., 20.  , 29.25, 17.  ],\n",
              "        [ 0.  ,  8.  , 10.75, ..., 12.25, 14.25, 19.25]],\n",
              "\n",
              "       [[ 0.  ,  4.5 ,  5.25, ..., 12.25,  8.75,  6.25],\n",
              "        [ 0.  ,  5.  ,  7.  , ..., 11.5 , 12.5 ,  7.  ],\n",
              "        [ 0.  ,  8.25,  9.5 , ..., 21.75, 19.  , 15.5 ],\n",
              "        ...,\n",
              "        [ 0.  ,  8.  , 13.  , ..., 17.75, 18.25, 15.75],\n",
              "        [ 0.  ,  9.5 , 16.5 , ..., 20.  , 15.75, 18.  ],\n",
              "        [ 0.  ,  6.  , 10.  , ..., 13.75, 20.5 , 14.25]],\n",
              "\n",
              "       [[ 0.  ,  5.25,  6.75, ..., 12.75, 11.25, 11.5 ],\n",
              "        [ 0.  ,  5.75,  7.  , ..., 10.25, 11.25, 12.75],\n",
              "        [ 0.  ,  9.  , 10.  , ..., 12.75, 19.  , 11.5 ],\n",
              "        ...,\n",
              "        [ 0.  ,  9.75,  9.25, ..., 21.75, 21.25, 21.25],\n",
              "        [ 0.  ,  9.75, 11.  , ..., 17.75, 16.5 , 18.25],\n",
              "        [ 0.  ,  7.  ,  7.75, ..., 18.  , 15.25, 14.5 ]]])"
            ]
          },
          "metadata": {
            "tags": []
          },
          "execution_count": 17
        }
      ]
    },
    {
      "cell_type": "markdown",
      "metadata": {
        "id": "f3_VJ3tYr5-K"
      },
      "source": [
        "## **Masking**\n",
        "\n",
        "The last important technique for subsetting data from an array is **masking**. \n",
        "\n",
        "How do we mask an array? Masking involves creating a **boolean** array (True/False) version of the data array where values corresponding to **True** masks are kept and values corresponding to **False** masks are not. The masking array must be the same size as the data array so that the indices match up. \n",
        "\n",
        "Masks can also be created using **binary operators** (>, <, ==, !=). This helps with larger arrays where typing out all of the True/False values can get really tedious. It also allows us to analyze or filter the values of the array by some condition.\n",
        "\n",
        "**What's the point of masking?**\n",
        "\n",
        "Masking allows for selecting certain indices, like indexing, which **reduces dimensionality**: masked arrays have to be returned in a single dimension because after masking, the resulting array elements are no longer necessarily  in a form that fits exactly into the original multiple dimensions. \n",
        "\n",
        "We can use masking in fMRI data as a **pre-processing step**, using it to get rid of unwanted voxels or to get just a subset of the voxels we are interested in (for example just data from a certain part of the brain).\n",
        "\n",
        "To figure out what data we are actually interested in, let's plot a histogram of all of the data."
      ]
    },
    {
      "cell_type": "code",
      "metadata": {
        "id": "osLCGmKprqdP",
        "outputId": "b6553731-465a-4491-f715-44e355490b81",
        "colab": {
          "base_uri": "https://localhost:8080/",
          "height": 296
        }
      },
      "source": [
        "_ = plt.hist(transposed_data.flatten(), bins=20)\n",
        "plt.xlabel('Raw fMRI Activity')\n",
        "plt.ylabel('TRs (count)')"
      ],
      "execution_count": 18,
      "outputs": [
        {
          "output_type": "execute_result",
          "data": {
            "text/plain": [
              "Text(0, 0.5, 'TRs (count)')"
            ]
          },
          "metadata": {
            "tags": []
          },
          "execution_count": 18
        },
        {
          "output_type": "display_data",
          "data": {
            "image/png": "[encoded data removed]",
            "text/plain": [
              "<Figure size 432x288 with 1 Axes>"
            ]
          },
          "metadata": {
            "tags": [],
            "needs_background": "light"
          }
        }
      ]
    },
    {
      "cell_type": "markdown",
      "metadata": {
        "id": "ZRoQsj06DPKG"
      },
      "source": [
        "From the histogram, we see that there is a large peak near 0 and another smaller bump around 1000. The values close to 0 are actually from outside of the brain, where the low signal values are caused by external things like air. So we aren't actually interested in the data there.\n",
        "\n",
        "So how can we extract the data from only the region of the scan that contains brain data? **Masking!**\n",
        "\n",
        "If we can determine a bottom threshold for the data we are interested in, we can filter out the non-brain data using a boolean mask! Let's take a closer look at a more specific range of the histogram:"
      ]
    },
    {
      "cell_type": "code",
      "metadata": {
        "id": "PlQq-x-tCbUd",
        "outputId": "aa2dddea-637c-4f4a-f9bc-e877834c27b5",
        "colab": {
          "base_uri": "https://localhost:8080/",
          "height": 296
        }
      },
      "source": [
        "_ = plt.hist(transposed_data.flatten(), bins=100, range=(100, 1500))\n",
        "plt.xlabel('Raw fMRI Activity')\n",
        "plt.ylabel('TRs (count)')"
      ],
      "execution_count": 19,
      "outputs": [
        {
          "output_type": "execute_result",
          "data": {
            "text/plain": [
              "Text(0, 0.5, 'TRs (count)')"
            ]
          },
          "metadata": {
            "tags": []
          },
          "execution_count": 19
        },
        {
          "output_type": "display_data",
          "data": {
            "image/png": "[encoded data removed]",
            "text/plain": [
              "<Figure size 432x288 with 1 Axes>"
            ]
          },
          "metadata": {
            "tags": [],
            "needs_background": "light"
          }
        }
      ]
    },
    {
      "cell_type": "markdown",
      "metadata": {
        "id": "oufqB9SfEUoq"
      },
      "source": [
        "Ok so by setting the range as 100 to 1500, we cut off most of the low signal range data and we can see the main brain data bump better. It looks like the plot as a second peak at around 700 to 1300, so we can set 700 as our low threshold."
      ]
    },
    {
      "cell_type": "code",
      "metadata": {
        "id": "l9Tesz71EQL3"
      },
      "source": [
        "threshold = 700"
      ],
      "execution_count": 20,
      "outputs": []
    },
    {
      "cell_type": "markdown",
      "metadata": {
        "id": "GZD013uZEo_1"
      },
      "source": [
        "Next, we have to determine which volume to threshold- this is where the **mean volume** comes in. If we picked an individual volume, it could have noise fluctuations that bias its value. However, the volume is resistant to fluctuations. So, let's mask the mean 3D volume array `data_mean` from before so that only voxels whose mean activity is above the threshold are kept."
      ]
    },
    {
      "cell_type": "code",
      "metadata": {
        "id": "caoe8TqVEoBC",
        "outputId": "ca7b3bc5-cdbf-4786-ec3e-476c847d6cf0",
        "colab": {
          "base_uri": "https://localhost:8080/"
        }
      },
      "source": [
        "masked_data = data_mean > threshold\n",
        "print(f'There are {masked_data.sum()} voxel activity values above the threshold.')"
      ],
      "execution_count": 21,
      "outputs": [
        {
          "output_type": "stream",
          "text": [
            "There are 66985 voxel activity values above the threshold.\n"
          ],
          "name": "stdout"
        }
      ]
    },
    {
      "cell_type": "markdown",
      "metadata": {
        "id": "BqORJpkHFjt3"
      },
      "source": [
        "Now let's visualize the mask! We'll use a function from the cogneuro class to create an interactive plot that shows one axial slice of the 3D mask at a time. Use the sliding bars to move through the brain slices!"
      ]
    },
    {
      "cell_type": "code",
      "metadata": {
        "id": "CUOgn1TzFLbW",
        "outputId": "a0d9042c-09b3-4b83-beb1-8c1b974a8039",
        "colab": {
          "base_uri": "https://localhost:8080/",
          "height": 552,
          "referenced_widgets": [
            "352d9026a97547028cc0cd89592987f2",
            "383f342cb4d146548b798378f8ffa303",
            "e16a0e39a2034278949ece95c75c4c73",
            "1018e6787138430a995305e9ef5cb72b",
            "bdee5916aa92445490ef6c7fe9f87afb",
            "ccb0c973266d400681a109165ac633d9",
            "8b5c2bf9e77e41b283e5a179f14695ae"
          ]
        }
      },
      "source": [
        "from ipywidgets import interact, interactive, fixed, interact_manual, widgets\n",
        "def plotMask(i):\n",
        "    plt.figure(figsize=(9,9))\n",
        "    plt.imshow(masked_data[i,:,:], cmap=\"gray\", vmin=0, vmax=1)\n",
        "    plt.axis('off')\n",
        "    \n",
        "num_axial_slices = masked_data.shape[0]\n",
        "_ = interact(plotMask, i=widgets.IntSlider(min=0,max=num_axial_slices-1,step=1,value=num_axial_slices/2))"
      ],
      "execution_count": 22,
      "outputs": [
        {
          "output_type": "display_data",
          "data": {
            "application/vnd.jupyter.widget-view+json": {
              "model_id": "352d9026a97547028cc0cd89592987f2",
              "version_minor": 0,
              "version_major": 2
            },
            "text/plain": [
              "interactive(children=(IntSlider(value=15, description='i', max=29), Output()), _dom_classes=('widget-interact'…"
            ]
          },
          "metadata": {
            "tags": []
          }
        }
      ]
    },
    {
      "cell_type": "markdown",
      "metadata": {
        "id": "C7ag7f_-GZ6Z"
      },
      "source": [
        "We can also use a similar function to plot the data directly without a filtering mask:"
      ]
    },
    {
      "cell_type": "code",
      "metadata": {
        "id": "k164Pv35Fzci",
        "outputId": "b39e169e-e5e2-40c3-cacf-3d057a910cbe",
        "colab": {
          "base_uri": "https://localhost:8080/",
          "height": 552,
          "referenced_widgets": [
            "82a7b13998fc40e8a8181e3eb9c10099",
            "a4eee2b0abc444b29efd83ac7b7222a9",
            "353e733248c94b9f8ae9ef5818c40832",
            "38f18c92658c496683a3925a516debaf",
            "a64004fe503d4dee84840799d4c62611",
            "b80f1ee5dd0743fa83d509d8c213dd72",
            "16fc29f7e9f34c3f97b7085e437d6041"
          ]
        }
      },
      "source": [
        "def plotData(i):\n",
        "    plt.figure(figsize=(9,9))\n",
        "    plt.imshow(data_mean[i,:,:], cmap=\"gray\", vmin=0, vmax=2500)\n",
        "    plt.axis('off')\n",
        "    \n",
        "_ = interact(plotData, i=widgets.IntSlider(min=0,max=num_axial_slices-1,step=1,value=num_axial_slices/2))"
      ],
      "execution_count": 23,
      "outputs": [
        {
          "output_type": "display_data",
          "data": {
            "application/vnd.jupyter.widget-view+json": {
              "model_id": "82a7b13998fc40e8a8181e3eb9c10099",
              "version_minor": 0,
              "version_major": 2
            },
            "text/plain": [
              "interactive(children=(IntSlider(value=15, description='i', max=29), Output()), _dom_classes=('widget-interact'…"
            ]
          },
          "metadata": {
            "tags": []
          }
        }
      ]
    },
    {
      "cell_type": "markdown",
      "metadata": {
        "id": "S6KGbS1tGelE"
      },
      "source": [
        "Good, the plots look pretty similar! \n",
        "\n",
        "#**Summary**\n",
        "\n",
        "So, in this lesson we loaded an actual fMRI experimental dataset and reviewed some basic data attribute info from lesson 1. You learned some basic 4D array data manipulation useful for fMRI data including averaging, indexing, and masking. Masking helps filter out unwanted voxels (like non-brain data) or allows us to focus in on specific brain data in a desired range of brain activity. Lastly, we plotted the masked data and the mean volume data in interactive plots to finally take a peak into the visualizable fMRI data!"
      ]
    },
    {
      "cell_type": "code",
      "metadata": {
        "id": "0nQr6-2fGXKK",
        "outputId": "3253cbaf-cfaf-45af-9473-e6fe102f6dcd",
        "colab": {
          "base_uri": "https://localhost:8080/",
          "height": 54
        }
      },
      "source": [
        ""
      ],
      "execution_count": null,
      "outputs": [
        {
          "output_type": "execute_result",
          "data": {
            "application/vnd.google.colaboratory.intrinsic+json": {
              "type": "string"
            },
            "text/plain": [
              "'Note to self -> idrg this stuff in depth (to point where could reproduce), but I need to! \\n\\nOnce get to point where need to use these technics, learn in depth'"
            ]
          },
          "metadata": {
            "tags": []
          },
          "execution_count": 27
        }
      ]
    }
  ]
}